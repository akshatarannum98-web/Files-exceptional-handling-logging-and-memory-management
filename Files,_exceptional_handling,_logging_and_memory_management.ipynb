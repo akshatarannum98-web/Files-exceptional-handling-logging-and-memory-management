{
  "nbformat": 4,
  "nbformat_minor": 0,
  "metadata": {
    "colab": {
      "provenance": []
    },
    "kernelspec": {
      "name": "python3",
      "display_name": "Python 3"
    },
    "language_info": {
      "name": "python"
    }
  },
  "cells": [
    {
      "cell_type": "markdown",
      "source": [
        "Descriptive answer"
      ],
      "metadata": {
        "id": "N2L-C0HZ3-7I"
      }
    },
    {
      "cell_type": "markdown",
      "source": [
        "1. What is the difference between interpreted and compiled languages?\n",
        " - The source code is executed line by line (or statement by statement) by an interpreter, without creating a separate machine code file first whereas the source code is translated entirely into machine code (binary) by a compiler before execution.\n",
        "\n",
        "2. What is exception handling in Python?\n",
        " - Exception handling in Python lets us catch and handle errors gracefully, so our program doesn’t crash.\n",
        "It uses these keywords:\n",
        "\n",
        "   try → Code that might cause an error\n",
        "   \n",
        "  except → Code to run if an error occurs.\n",
        "\n",
        "3. What is the purpose of the finally block in exception handling?\n",
        " - The finally block is used to write code that must run no matter what happens:\n",
        "\n",
        "If no exception occurs → finally still runs.\n",
        "\n",
        "If an exception occurs (handled or not) → finally still runs.\n",
        "\n",
        "4. What is logging in Python?\n",
        " - Logging in Python is a way to record (log) events that happen while a program is running. Instead of just printing messages with print(), we use the logging module to keep track of information, warnings, errors, and debugging details.\n",
        "\n",
        "5. What is the significance of the __del__ method in Python?\n",
        " - __del__ is a special method in Python, also called a destructor. It is automatically called when an object is about to be destroyed (garbage collected).\n",
        "\n",
        "6. What is the difference between import and from ... import in Python?\n",
        " - import statement imports the entire module, we must use the module name as a prefix to access its functions, classes, or variabless whereas from ... import statement imports specific functions, classes, or variables from a module, we can use them directly without the module name.\n",
        "\n",
        "7. How can you handle multiple exceptions in Python?\n",
        " - We can handle multiple exceptions in Python using separate except blocks if you need different handling.\n",
        "\n",
        " - Use a tuple in one block if handling is the same.\n",
        "\n",
        " - Avoid catching all exceptions blindly—it hides bugs.\n",
        "\n",
        "8. What is the purpose of the with statement when handling files in Python?\n",
        " - The purpose  of the with statement is used to manage resources (like files) safely and automatically. When handling files, it ensures the file is properly closed after use — even if an error occurs.\n",
        "\n",
        "9. What is the difference between multithreading and multiprocessing?\n",
        " - | Aspect                     | **Multithreading**                                                        | **Multiprocessing**                                                   |\n",
        "| -------------------------- | ------------------------------------------------------------------------- | --------------------------------------------------------------------- |\n",
        "| **Definition**             | Running multiple **threads** (lightweight tasks) within a single process. | Running multiple **processes** (independent programs) simultaneously. |\n",
        "| **Execution Unit**         | Threads (share the same memory space).                                    | Processes (each has its own memory space).                            |\n",
        "| **Memory Usage**           | More memory-efficient (threads share data).                               | Uses more memory (separate memory for each process).                  |\n",
        "| **Speed**                  | Faster for I/O-bound tasks (waiting on input/output).                     | Faster for CPU-bound tasks (heavy computation).                       |\n",
        "| **Communication**          | Easier, since threads share memory.                                       | Harder, needs inter-process communication (IPC).                      |\n",
        "| **Failure Impact**         | A crash in one thread can affect the whole process.                       | A crash in one process usually doesn’t affect others.                 |\n",
        "| **Python Example Modules** | `threading`                                                               | `multiprocessing`                                                     |\n",
        "\n",
        "10. What are the advantages of using logging in a program?\n",
        " - Advantages of Using Logging in a program are as folows:\n",
        "\n",
        " - Better than print() - print() is temporary and cluttered, while logging is structured and configurable.\n",
        "\n",
        " - Different severity levels - we can categorize messages (DEBUG, INFO, WARNING, ERROR, CRITICAL). Helps filter important vs. unimportant messages.\n",
        "\n",
        " - Persistent records - Logs can be saved to files, databases, or remote servers for future analysis.\n",
        "\n",
        " - Debugging and troubleshooting - Provides insights into what went wrong and when. Makes it easier to trace errors after the program has run.\n",
        "\n",
        " - Monitoring and auditing - Logs show how the program behaved over time. Useful for tracking user activity or system events.\n",
        "\n",
        "11. What is memory management in Python?\n",
        " - Memory management in Python refers to the process of efficiently handling the allocation and deallocation of memory (RAM) for storing objects during program execution. Since Python is a high-level language, it automatically manages memory for the programmer, but it has specific mechanisms to do so.\n",
        "\n",
        "12. What are the basic steps involved in exception handling in Python?\n",
        " - In Python, exception handling is the process of responding to errors gracefully without crashing the program. It uses the try-except mechanism.\n",
        "\n",
        "try → risky code runs.\n",
        "\n",
        "except → handles errors if they occur.\n",
        "\n",
        "else → runs only if no error.\n",
        "\n",
        "finally → always runs.\n",
        "\n",
        "13.  Why is memory management important in Python?\n",
        " - Memory management is important in Python because it ensures programs run efficiently, reliably, and without crashes. Since Python is often used for data-heavy applications (AI, ML, web apps), handling memory properly is crucial.\n",
        "\n",
        "14. What is the role of try and except in exception handling?\n",
        " - try Block → Detect Errors. The try block contains the risky code (code that might raise an exception). If everything inside try runs without error → the except block is skipped. If an error occurs → Python immediately stops executing the try block and jumps to the except block. Whereas except Block → Handle Errors. The except block defines how to respond when an error happens. It prevents the program from crashing by catching exceptions and providing alternative actions.\n",
        "\n",
        "15. How does Python's garbage collection system work?\n",
        " - Python’s garbage collection (GC) system is what keeps memory usage efficient by automatically cleaning up objects that are no longer needed. It ensures that unused memory is reclaimed, so programs don’t run out of memory or suffer from leaks.\n",
        "\n",
        "16. What is the purpose of the else block in exception handling?\n",
        " - The Purpose of the else block to write code that should only run if no exception occurs in the try block. It helps separate the \"successful execution\" logic from the \"error handling\" logic, making the program cleaner.\n",
        "\n",
        "17. What are the common logging levels in Python?\n",
        " - In Python, the logging module provides different logging levels to indicate the severity or importance of a message. These levels help developers filter logs and control how much information gets recorded.\n",
        "\n",
        "18. What is the difference between os.fork() and multiprocessing in Python?\n",
        " - | Aspect                              | `os.fork()`                                                                                                                                                 | `multiprocessing`                                                                                                        |\n",
        "| ----------------------------------- | ----------------------------------------------------------------------------------------------------------------------------------------------------------- | ------------------------------------------------------------------------------------------------------------------------ |\n",
        "| **Definition**                      | A low-level system call that **duplicates the current process**. Available only on **Unix/Linux** systems.                                                  | A **high-level Python module** that provides an API for creating and managing processes across platforms.                |\n",
        "| **Platform Support**                | Works only on **Unix/Linux (POSIX-compliant systems)**. Not available on Windows.                                                                           | Works on **all platforms** (Windows, Linux, macOS).                                                                      |\n",
        "| **Ease of Use**                     | Low-level → requires manual handling of process IDs, communication, and cleanup.                                                                            | High-level → provides `Process`, `Queue`, `Pipe`, `Pool`, etc., making it easier to write multiprocessing code.          |\n",
        "| **Process Management**              | After `os.fork()`, both parent and child processes continue executing the code from the point of the fork. Programmer must handle synchronization manually. | Provides built-in management: start, join, terminate processes. Handles synchronization using Locks, Events, Semaphores. |\n",
        "| **Communication Between Processes** | Requires manual implementation (e.g., shared memory, pipes, or sockets).                                                                                    | Built-in support for inter-process communication (IPC) via `Queue` and `Pipe`.                                           |\n",
        "| **Safety**                          | Can be error-prone and unsafe in large Python programs, especially with th                                                                                  |                                                                                                                          |\n",
        "19. What is the importance of closing a file in Python?\n",
        " - In Python, when you open a file using open(), the operating system allocates resources (like memory buffers and file handles) to work with that file. Closing a file is important because it ensures these resources are properly released and that any data is safely written.\n",
        "\n",
        "20. What is the difference between file.read() and file.readline() in Python?\n",
        " - | Feature               | `file.read()`                                                                 | `file.readline()`                                                                                           |\n",
        "| --------------------- | ----------------------------------------------------------------------------- | ----------------------------------------------------------------------------------------------------------- |\n",
        "| **What it reads**     | Reads the **entire file** (or a specified number of bytes/characters).        | Reads **one line at a time** from the file.                                                                 |\n",
        "| **Return type**       | Returns a **string** containing the data read.                                | Returns a **string** containing the line (including the `\\n` newline character, unless it’s the last line). |\n",
        "| **Usage**             | Useful when you want the **whole file content** or a chunk of it.             | Useful when you want to **process a file line by line**.                                                    |\n",
        "| **Memory efficiency** | Can be memory-heavy if the file is large (since it loads everything at once). | More memory-efficient, since it only loads one line at a time.                                              |\n",
        "| **Argument**          | \\`file.                                                                       |                                                                                                             |\n",
        "21. What is the logging module in Python used for?\n",
        " - The logging module in Python is a built-in module used to record (log) messages about what’s happening in a program while it runs. Instead of using print() for debugging or tracking, the logging module provides a flexible, standardized, and configurable way to report events, errors, warnings, or status updates.\n",
        "\n",
        "22. What is the os module in Python used for in file handling?\n",
        " - The os module in Python is a built-in module that provides functions for interacting with the operating system. In the context of file handling, it’s especially useful for managing files and directories beyond just reading/writing (which is handled by open()).\n",
        "\n",
        "23. What are the challenges associated with memory management in Python?\n",
        " - Even though Python has automatic memory management (reference counting + garbage collection), there are still challenges developers face, especially with performance and resource-heavy applications.\n",
        "\n",
        "24. How do you raise an exception manually in Python?\n",
        " - In Python, we can raise an exception manually using the raise keyword. This is useful when you want to signal that an error condition has occurred in your program.\n",
        "\n",
        "25. Why is it important to use multithreading in certain applications?\n",
        " - Multithreading in Python (and in programming in general) is important because it allows multiple tasks to run concurrently within a single process. While Python has the Global Interpreter Lock (GIL) that limits true parallelism for CPU-heavy tasks, multithreading is still very useful in many situations."
      ],
      "metadata": {
        "id": "YfcntXp44GFg"
      }
    },
    {
      "cell_type": "markdown",
      "source": [
        "PRACTICAL QUESTION"
      ],
      "metadata": {
        "id": "bBw-nCr7oY1e"
      }
    },
    {
      "cell_type": "markdown",
      "source": [
        "1. How can you open a file for writing in Python and write a string to it?"
      ],
      "metadata": {
        "id": "uByljhwQo-OA"
      }
    },
    {
      "cell_type": "code",
      "source": [
        "f = open(\"example.txt\", \"w\")\n",
        "f.write(\"Hello, this is a test string!\")\n",
        "f.close()\n"
      ],
      "metadata": {
        "id": "gwuLcWJ-ob7C"
      },
      "execution_count": null,
      "outputs": []
    },
    {
      "cell_type": "markdown",
      "source": [
        "2. Write a Python program to read the contents of a file and print each line?"
      ],
      "metadata": {
        "id": "vbYYQyGgocMh"
      }
    },
    {
      "cell_type": "code",
      "source": [
        "with open(\"example.txt\", \"r\") as f:\n",
        "\n",
        "    for line in f:\n",
        "\n",
        "        print(line, end=\"\")\n"
      ],
      "metadata": {
        "id": "w2iWv93uocf6"
      },
      "execution_count": null,
      "outputs": []
    },
    {
      "cell_type": "markdown",
      "source": [
        "3.  How would you handle a case where the file doesn't exist while trying to open it for reading?"
      ],
      "metadata": {
        "id": "ln98JdNvocvL"
      }
    },
    {
      "cell_type": "code",
      "source": [
        "try:\n",
        "    with open(\"example.txt\", \"r\") as f:\n",
        "        contents = f.read()\n",
        "        print(contents)\n",
        "except FileNotFoundError:\n",
        "    print(\"Error: The file does not exist.\")\n"
      ],
      "metadata": {
        "id": "ClC4l7mLoc9x"
      },
      "execution_count": null,
      "outputs": []
    },
    {
      "cell_type": "markdown",
      "source": [
        "4. Write a Python script that reads from one file and writes its content to another file."
      ],
      "metadata": {
        "id": "afTv73TYodMF"
      }
    },
    {
      "cell_type": "code",
      "source": [
        "try:\n",
        "\n",
        "    with open(\"source.txt\", \"r\") as src:\n",
        "\n",
        "        content = src.read()\n",
        "\n",
        "    with open(\"destination.txt\", \"w\") as dest:\n",
        "        dest.write(content)\n",
        "\n",
        "    print(\"File copied successfully!\")\n",
        "\n",
        "except FileNotFoundError:\n",
        "    print(\"Error: Source file not found.\")\n"
      ],
      "metadata": {
        "id": "Eo3jbrMIodb4"
      },
      "execution_count": null,
      "outputs": []
    },
    {
      "cell_type": "markdown",
      "source": [
        "5. F How would you catch and handle division by zero error in Python?"
      ],
      "metadata": {
        "id": "kSF9d5LUodq-"
      }
    },
    {
      "cell_type": "code",
      "source": [
        "try:\n",
        "    a = 10\n",
        "    b = 0\n",
        "    result = a / b\n",
        "    print(\"Result:\", result)\n",
        "except ZeroDivisionError:\n",
        "    print(\"Error: Cannot divide by zero!\")\n"
      ],
      "metadata": {
        "id": "WUAcdsbKod4L"
      },
      "execution_count": null,
      "outputs": []
    },
    {
      "cell_type": "markdown",
      "source": [
        "6. Write a Python program that logs an error message to a log file when a division by zero exception occurs."
      ],
      "metadata": {
        "id": "rbjKOIYAoeFl"
      }
    },
    {
      "cell_type": "code",
      "source": [
        "import logging\n",
        "\n",
        "logging.basicConfig(\n",
        "    filename=\"app.log\",\n",
        "    level=logging.ERROR,\n",
        ")\n",
        "\n",
        "def safe_divide(a, b):\n",
        "    try:\n",
        "        return a / b\n",
        "    except ZeroDivisionError as e:\n",
        "        logging.error(\"Division by zero error: %s\", e)\n",
        "        print(\"Error: Cannot divide by zero! (Check app.log for details)\")\n",
        "        return None\n",
        "\n",
        "output:\n",
        "result = safe_divide(10, 0)\n"
      ],
      "metadata": {
        "id": "tvbpP3zBoeRJ"
      },
      "execution_count": null,
      "outputs": []
    },
    {
      "cell_type": "markdown",
      "source": [
        "7. How do you log information at different levels (INFO, ERROR, WARNING) in Python using the logging module?"
      ],
      "metadata": {
        "id": "CTLdX2SVoju7"
      }
    },
    {
      "cell_type": "code",
      "source": [
        "import logging\n",
        "\n",
        "logging.basicConfig(\n",
        "    filename=\"app.log\",\n",
        "    level=logging.DEBUG,\n",
        "    format=\"%(asctime)s - %(levelname)s - %(message)s\"\n",
        ")\n",
        "\n",
        "\n",
        "logging.debug(\"This is a debug message (useful for developers).\")\n",
        "logging.info(\"This is an info message (general progress).\")\n",
        "logging.warning(\"This is a warning message (something unusual happened).\")\n",
        "logging.error(\"This is an error message (something went wrong).\")\n",
        "logging.critical(\"This is a critical message (very serious problem).\")\n",
        "\n"
      ],
      "metadata": {
        "id": "sCsRCAG-okAo"
      },
      "execution_count": null,
      "outputs": []
    },
    {
      "cell_type": "markdown",
      "source": [
        "8. Write a program to handle a file opening error using exception handling."
      ],
      "metadata": {
        "id": "_t0cG7K7okUu"
      }
    },
    {
      "cell_type": "code",
      "source": [
        "try:\n",
        "\n",
        "    with open(\"example.txt\", \"r\") as file:\n",
        "        content = file.read()\n",
        "        print(content)\n",
        "\n",
        "except FileNotFoundError:\n",
        "    print(\"Error: The file does not exist.\")\n",
        "\n",
        "except PermissionError:\n",
        "    print(\"Error: You do not have permission to open this file.\")\n",
        "\n",
        "except Exception as e:\n",
        "\n",
        "    print(\"An unexpected error occurred:\", e)\n"
      ],
      "metadata": {
        "id": "oXUylcobokm_"
      },
      "execution_count": null,
      "outputs": []
    },
    {
      "cell_type": "markdown",
      "source": [
        "9. How can you read a file line by line and store its content in a list in Python?"
      ],
      "metadata": {
        "id": "TUuygHqzok33"
      }
    },
    {
      "cell_type": "code",
      "source": [
        "with open(\"example.txt\", \"r\") as file:\n",
        "    lines = file.readlines()\n",
        "    lines = [line.strip() for line in lines]\n",
        "\n",
        "print(lines)\n"
      ],
      "metadata": {
        "id": "3EPqxGCMolHN"
      },
      "execution_count": null,
      "outputs": []
    },
    {
      "cell_type": "markdown",
      "source": [
        "10. How can you append data to an existing file in Python?"
      ],
      "metadata": {
        "id": "ZaZgMfvNolZo"
      }
    },
    {
      "cell_type": "code",
      "source": [
        "\n",
        "with open(\"example.txt\", \"a\") as file:\n",
        "    file.write(\"This is a new line.\\n\")\n"
      ],
      "metadata": {
        "id": "Y1F2XjaBolpt"
      },
      "execution_count": null,
      "outputs": []
    },
    {
      "cell_type": "markdown",
      "source": [
        "11. Write a Python program that uses a try-except block to handle an error when attempting to access a dictionary key that doesn't exist."
      ],
      "metadata": {
        "id": "RnRKfLQcrqBC"
      }
    },
    {
      "cell_type": "code",
      "source": [
        "\n",
        "student = {\n",
        "    \"name\": \"Aksha\",\n",
        "    \"age\": 20,\n",
        "    \"course\": \"Computer Science\"\n",
        "}\n",
        "\n",
        "try:\n",
        "\n",
        "    print(\"Student's grade:\", student[\"grade\"])\n",
        "\n",
        "except KeyError:\n",
        "    print(\"Error: The key 'grade' does not exist in the dictionary.\")\n"
      ],
      "metadata": {
        "id": "Xfqej8LbomXr"
      },
      "execution_count": null,
      "outputs": []
    },
    {
      "cell_type": "markdown",
      "source": [
        "12. Write a program that demonstrates using multiple except blocks to handle different types of exceptions."
      ],
      "metadata": {
        "id": "2KjYSnU_ommR"
      }
    },
    {
      "cell_type": "code",
      "source": [
        "try:\n",
        "\n",
        "    num1 = int(input(\"Enter a number: \"))\n",
        "    num2 = int(input(\"Enter another number: \"))\n",
        "    result = num1 / num2\n",
        "    print(\"Result:\", result)\n",
        "\n",
        "\n",
        "    student = {\"name\": \"Aksha\", \"age\": 20}\n",
        "    print(\"Grade:\", student[\"grade\"])\n",
        "\n",
        "except ZeroDivisionError:\n",
        "    print(\"Error: Division by zero is not allowed.\")\n",
        "\n",
        "except ValueError:\n",
        "    print(\"Error: Invalid input. Please enter numbers only.\")\n",
        "\n",
        "except KeyError:\n",
        "    print(\"Error: The specified key does not exist in the dictionary.\")\n",
        "\n",
        "except\n"
      ],
      "metadata": {
        "id": "d-oDylZTom2c"
      },
      "execution_count": null,
      "outputs": []
    },
    {
      "cell_type": "markdown",
      "source": [
        "13.  How would you check if a file exists before attempting to read it in Python?"
      ],
      "metadata": {
        "id": "FF3iqUEuonNi"
      }
    },
    {
      "cell_type": "code",
      "source": [
        "import os\n",
        "\n",
        "filename = \"example.txt\"\n",
        "\n",
        "if os.path.exists(filename):\n",
        "    with open(filename, \"r\") as file:\n",
        "        print(file.read())\n",
        "else:\n",
        "    print(\"Error: File does not exist.\")\n"
      ],
      "metadata": {
        "id": "OgnLdVRhonc0"
      },
      "execution_count": null,
      "outputs": []
    },
    {
      "cell_type": "markdown",
      "source": [
        "14. Write a program that uses the logging module to log both informational and error messages."
      ],
      "metadata": {
        "id": "ObgkyMvionrW"
      }
    },
    {
      "cell_type": "code",
      "source": [
        "import logging\n",
        "\n",
        "logging.basicConfig(\n",
        "    filename=\"app.log\",\n",
        "    level=logging.DEBUG,\n",
        "    format=\"%(asctime)s - %(levelname)s - %(message)s\"\n",
        ")\n",
        "\n",
        "def divide(a, b):\n",
        "    try:\n",
        "        result = a / b\n",
        "        logging.info(f\"Division successful: {a} / {b} = {result}\")\n",
        "        return result\n",
        "    except ZeroDivisionError:\n",
        "        logging.error(\"Attempted division by zero.\")\n",
        "        return None\n",
        "\n",
        "\n",
        "logging.info(\"Program started.\")\n",
        "\n",
        "x = divide(10, 2)\n",
        "y = divide(5, 0)\n",
        "\n",
        "logging.info(\"Program finished.\")\n"
      ],
      "metadata": {
        "id": "Tnsa1zeson6w"
      },
      "execution_count": null,
      "outputs": []
    },
    {
      "cell_type": "markdown",
      "source": [
        "15. Write a Python program that prints the content of a file and handles the case when the file is empty."
      ],
      "metadata": {
        "id": "Ya7SeTLitFbu"
      }
    },
    {
      "cell_type": "code",
      "source": [
        "def read_file(filename):\n",
        "    try:\n",
        "        with open(filename, \"r\") as file:\n",
        "            content = file.read()\n",
        "            if content.strip():\n",
        "                print(\"File content:\\n\")\n",
        "                print(content)\n",
        "            else:\n",
        "                print(\"The file is empty.\")\n",
        "    except FileNotFoundError:\n",
        "        print(f\"Error: The file '{filename}' does not exist.\")\n",
        "\n",
        "read_file(\"example.txt\")\n"
      ],
      "metadata": {
        "id": "_yitiXzYtFtB"
      },
      "execution_count": null,
      "outputs": []
    },
    {
      "cell_type": "markdown",
      "source": [
        "16. Demonstrate how to use memory profiling to check the memory usage of a small program."
      ],
      "metadata": {
        "id": "NPuE5JRotF80"
      }
    },
    {
      "cell_type": "code",
      "source": [
        "from memory_profiler import profile\n",
        "\n",
        "@profile\n",
        "def create_list():\n",
        "\n",
        "    data = [i for i in range(1000000)]\n",
        "    return data\n",
        "\n",
        "if __name__ == \"__main__\":\n",
        "    create_list()\n"
      ],
      "metadata": {
        "id": "tFeQd3rVtGN5"
      },
      "execution_count": null,
      "outputs": []
    },
    {
      "cell_type": "markdown",
      "source": [
        "17. Write a Python program to create and write a list of numbers to a file, one number per line."
      ],
      "metadata": {
        "id": "RA0zdXzitGet"
      }
    },
    {
      "cell_type": "code",
      "source": [
        "\n",
        "numbers = [10, 20, 30, 40, 50]\n",
        "\n",
        "with open(\"numbers.txt\", \"w\") as file:\n",
        "    for num in numbers:\n",
        "        file.write(str(num) + \"\\n\")\n",
        "\n",
        "print(\"Numbers written to numbers.txt successfully.\")\n"
      ],
      "metadata": {
        "id": "nYoCiG5utGwQ"
      },
      "execution_count": null,
      "outputs": []
    },
    {
      "cell_type": "markdown",
      "source": [
        "18.  How would you implement a basic logging setup that logs to a file with rotation after 1MB?"
      ],
      "metadata": {
        "id": "srcViCMBtHAr"
      }
    },
    {
      "cell_type": "code",
      "source": [
        "import logging\n",
        "from logging.handlers import RotatingFileHandler\n",
        "\n",
        "\n",
        "log_file = \"app.log\"\n",
        "handler = RotatingFileHandler(\n",
        "    log_file,\n",
        "    maxBytes=1_000_000,\n",
        "    backupCount=5\n",
        ")\n",
        "\n",
        "\n",
        "logging.basicConfig(\n",
        "    level=logging.INFO,\n",
        "    format=\"%(asctime)s - %(levelname)s - %(message)s\",\n",
        "    handlers=[handler]\n",
        ")\n",
        "\n",
        "for i in range(10000):\n",
        "    logging.info(f\"Log message {i}\")\n"
      ],
      "metadata": {
        "id": "-Aj-YDkBtHSr"
      },
      "execution_count": null,
      "outputs": []
    },
    {
      "cell_type": "markdown",
      "source": [
        "19.  Write a program that handles both IndexError and KeyError using a try-except block."
      ],
      "metadata": {
        "id": "NhP8GqPtuFhw"
      }
    },
    {
      "cell_type": "code",
      "source": [
        "def handle_errors():\n",
        "    my_list = [1, 2, 3]\n",
        "    my_dict = {\"a\": 10, \"b\": 20}\n",
        "\n",
        "    try:\n",
        "        print(\"List item:\", my_list[5])\n",
        "\n",
        "        print(\"Dictionary value:\", my_dict[\"z\"])\n",
        "\n",
        "    except IndexError:\n",
        "        print(\"Error: Tried to access a list index that doesn't exist.\")\n",
        "\n",
        "    except KeyError:\n",
        "        print(\"Error: Tried to access a dictionary key that doesn't exist.\")\n",
        "\n",
        "\n",
        "handle_errors()\n"
      ],
      "metadata": {
        "id": "q7hudXGHuFzZ"
      },
      "execution_count": null,
      "outputs": []
    },
    {
      "cell_type": "markdown",
      "source": [
        "20. How would you open a file and read its contents using a context manager in Python?"
      ],
      "metadata": {
        "id": "fMR8vSJQuGDt"
      }
    },
    {
      "cell_type": "code",
      "source": [
        "\n",
        "filename = \"example.txt\"\n",
        "\n",
        "try:\n",
        "    with open(filename, \"r\") as file:\n",
        "        contents = file.read()\n",
        "        print(\"File contents:\\n\")\n",
        "        print(contents)\n",
        "except FileNotFoundError:\n",
        "    print(f\"Error: The file '{filename}' does not exist.\")\n"
      ],
      "metadata": {
        "id": "SR5KH-b1uGRw"
      },
      "execution_count": null,
      "outputs": []
    },
    {
      "cell_type": "markdown",
      "source": [
        "21.  Write a Python program that reads a file and prints the number of occurrences of a specific word."
      ],
      "metadata": {
        "id": "5PU3JqeJuGki"
      }
    },
    {
      "cell_type": "code",
      "source": [
        "def count_word_occurrences(filename, word):\n",
        "    try:\n",
        "        with open(filename, \"r\") as file:\n",
        "            text = file.read().lower()\n",
        "            words = text.split()\n",
        "            count = words.count(word.lower())\n",
        "            print(f\"The word '{word}' occurs {count} times in '{filename}'.\")\n",
        "    except FileNotFoundError:\n",
        "        print(f\"Error: The file '{filename}' was not found.\")\n",
        "\n",
        "count_word_occurrences(\"example.txt\", \"python\")\n"
      ],
      "metadata": {
        "id": "nepPq0tLuGyV"
      },
      "execution_count": null,
      "outputs": []
    },
    {
      "cell_type": "markdown",
      "source": [
        "22. How can you check if a file is empty before attempting to read its content?"
      ],
      "metadata": {
        "id": "Qrf0XiRluyR3"
      }
    },
    {
      "cell_type": "code",
      "source": [
        "import os\n",
        "\n",
        "filename = \"example.txt\"\n",
        "\n",
        "if os.path.exists(filename) and os.path.getsize(filename) > 0:\n",
        "    with open(filename, \"r\") as file:\n",
        "        contents = file.read()\n",
        "        print(\"File contents:\\n\", contents)\n",
        "else:\n",
        "    print(f\"The file '{filename}' is empty or does not exist.\")\n"
      ],
      "metadata": {
        "id": "aceKGMHzuyiR"
      },
      "execution_count": null,
      "outputs": []
    }
  ]
}